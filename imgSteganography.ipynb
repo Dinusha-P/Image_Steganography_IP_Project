{
 "cells": [
  {
   "cell_type": "code",
   "execution_count": 3,
   "id": "cba2d96b",
   "metadata": {},
   "outputs": [
    {
     "name": "stdout",
     "output_type": "stream",
     "text": [
      "This image contain secret message in it!\n"
     ]
    }
   ],
   "source": [
    "import cv2\n",
    "import numpy as np\n",
    "\n",
    "# Load the image in which you want to hide text message\n",
    "img = cv2.imread('DinushaPhoto.jpg')\n",
    "\n",
    "#............. Display input image\n",
    "cv2.imshow('input image', img)\n",
    "# Wait for a key press and then close the window\n",
    "cv2.waitKey(0)\n",
    "cv2.destroyAllWindows()\n",
    "# Load the secret message from text file\n",
    "with open('secret_message', 'r') as f:\n",
    "    secret_message = f.read()\n",
    "# Convert the secret message to binary\n",
    "binary_secret_message = ''.join(format(ord(i), '08b') for i in secret_message)\n",
    "\n",
    "#To retrieve secret message from secret embedded image  \n",
    "string_length=len(secret_message)*8\n",
    "#print(binary_secret_message,\"\\n\")\n",
    "\n",
    "# Get the number of pixels required to store the secret message\n",
    "num_pixels = len(binary_secret_message)\n",
    "\n",
    "# Check if the cover image is large enough to store the secret message\n",
    "if num_pixels > img.shape[0] * img.shape[1]:\n",
    "    print('Error: Image too small to store secret message')\n",
    "    exit()\n",
    "\n",
    "# Convert the cover image to grayscale\n",
    "grayscale_img = cv2.cvtColor(img, cv2.COLOR_BGR2GRAY)\n",
    "\n",
    "# Convert the grayscale image to a 1D array\n",
    "One_dim_img = grayscale_img.ravel()\n",
    "\n",
    "#print(\"\\n\")\n",
    "# Modify the LSB of each pixel in the input image to store the secret message\n",
    "for i in range(num_pixels):\n",
    "    if binary_secret_message[i] == '1':\n",
    "        One_dim_img[i] |= 1\n",
    "    else:\n",
    "        One_dim_img[i] &= 254\n",
    "\n",
    "# Reshape the one dimensional image to the original shape\n",
    "stego_img = One_dim_img.reshape(grayscale_img.shape)\n",
    "\n",
    "# Save the stego image\n",
    "cv2.imwrite('stego_image.png', stego_img)\n",
    "\n",
    "#............. Display secret hidden message\n",
    "cv2.imshow('Secret embedded image', stego_img)\n",
    "# Wait for a key press and then close the window\n",
    "cv2.waitKey(0)\n",
    "cv2.destroyAllWindows()\n",
    "\n",
    "# Load the secret embedded image\n",
    "stego_img = cv2.imread('stego_image.png', cv2.IMREAD_GRAYSCALE)\n",
    "\n",
    "# Extract the LSB of each pixel to get the secret message\n",
    "binary_secret_message = ''\n",
    "for pixel in stego_img.ravel():\n",
    "    binary_secret_message += str(pixel & 1)\n",
    "\n",
    "# Convert the binary secret message to ASCII\n",
    "secret_message = ''\n",
    "binary_string_length=len(binary_secret_message)\n",
    "\n",
    "for i in range(0, string_length, 8):\n",
    "    byte = binary_secret_message[i:i+8]\n",
    "    secret_message += chr(int(byte, 2))\n",
    "\n",
    "print(secret_message)"
   ]
  },
  {
   "cell_type": "code",
   "execution_count": null,
   "id": "53d538ef",
   "metadata": {},
   "outputs": [],
   "source": []
  },
  {
   "cell_type": "code",
   "execution_count": null,
   "id": "5ee2bd0e",
   "metadata": {},
   "outputs": [],
   "source": []
  }
 ],
 "metadata": {
  "kernelspec": {
   "display_name": "Python 3 (ipykernel)",
   "language": "python",
   "name": "python3"
  },
  "language_info": {
   "codemirror_mode": {
    "name": "ipython",
    "version": 3
   },
   "file_extension": ".py",
   "mimetype": "text/x-python",
   "name": "python",
   "nbconvert_exporter": "python",
   "pygments_lexer": "ipython3",
   "version": "3.10.7"
  }
 },
 "nbformat": 4,
 "nbformat_minor": 5
}
